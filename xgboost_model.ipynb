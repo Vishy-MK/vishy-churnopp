{
  "nbformat": 4,
  "nbformat_minor": 0,
  "metadata": {
    "colab": {
      "provenance": []
    },
    "kernelspec": {
      "name": "python3",
      "display_name": "Python 3"
    },
    "language_info": {
      "name": "python"
    }
  },
  "cells": [
    {
      "cell_type": "code",
      "source": [
        "import numpy as np\n",
        "import pandas as pd\n",
        "import xgboost as xgb\n",
        "from sklearn.model_selection import train_test_split\n",
        "from sklearn.preprocessing import StandardScaler\n",
        "from imblearn.over_sampling import SMOTE\n",
        "import matplotlib.pyplot as plt\n",
        "!pip install fpdf\n",
        "from fpdf import FPDF\n",
        "import joblib"
      ],
      "metadata": {
        "id": "jTT-P6qnrnma"
      },
      "execution_count": null,
      "outputs": []
    },
    {
      "cell_type": "code",
      "source": [
        "train_df = pd.read_csv(\"/content/training_dataset.csv\")\n",
        "test_df = pd.read_csv(\"/content/churn_data.csv\")\n",
        "\n",
        "\n",
        "train_df.dropna(inplace=True)\n",
        "test_df.dropna(inplace=True)\n",
        "\n",
        "\n",
        "X_train = train_df.drop(columns=['churned'])\n",
        "y_train = train_df['churned']\n",
        "X_test = test_df.drop(columns=['churned'])\n",
        "y_test = test_df['churned']\n",
        "\n",
        "\n",
        "scaler = StandardScaler()\n",
        "X_train_scaled = scaler.fit_transform(X_train)\n",
        "X_test_scaled = scaler.transform(X_test)"
      ],
      "metadata": {
        "id": "U1vdSNJ3LbuJ"
      },
      "execution_count": null,
      "outputs": []
    },
    {
      "cell_type": "code",
      "source": [
        "smote = SMOTE()\n",
        "X_train_resampled, y_train_resampled = smote.fit_resample(X_train_scaled, y_train)\n",
        "\n",
        "\n",
        "xgb_model = xgb.XGBClassifier(\n",
        "    n_estimators=100,\n",
        "    learning_rate=0.05,\n",
        "    max_depth=6,\n",
        "    subsample=0.8,\n",
        "    colsample_bytree=0.8,\n",
        "    objective='binary:logistic',\n",
        "    eval_metric='logloss',\n",
        "    use_label_encoder=False\n",
        ")\n",
        "\n",
        "xgb_model.fit(X_train_resampled, y_train_resampled)\n"
      ],
      "metadata": {
        "id": "qaFL7OauLe1s"
      },
      "execution_count": null,
      "outputs": []
    },
    {
      "cell_type": "code",
      "source": [
        "y_pred = xgb_model.predict(X_test_scaled)\n",
        "test_acc = (y_pred == y_test).mean()\n",
        "print(f\"Test Accuracy: {test_acc:.4f}\")\n",
        "\n",
        "\n",
        "\n",
        "joblib.dump(xgb_model, \"/content/churn_xgboost_model.pkl\")\n",
        "print(\"XGBoost model saved successfully!\")\n",
        "\n",
        "\n",
        "churn_counts = y_test.value_counts()\n",
        "plt.figure(figsize=(6, 4))\n",
        "plt.bar(['Retained', 'Churned'], churn_counts, color=['blue', 'red'])\n",
        "plt.xlabel(\"Customer Status\")\n",
        "plt.ylabel(\"Count\")\n",
        "plt.title(\"Churned vs Retained Customers\")\n",
        "plt.savefig(\"/content/churn_bar_chart.png\")\n",
        "print(\"Bar chart saved successfully!\")\n",
        "\n",
        "\n",
        "pdf = FPDF()\n",
        "pdf.add_page()\n",
        "pdf.set_font(\"Arial\", size=12)\n",
        "pdf.cell(200, 10, txt=\"Churn Prediction Results (XGBoost)\", ln=True, align='C')\n",
        "pdf.image(\"/content/churn_bar_chart.png\", x=10, y=20, w=180)\n",
        "pdf.output(\"/content/churn_report.pdf\")\n",
        "print(\"PDF report saved.\")\n"
      ],
      "metadata": {
        "id": "7K8Lggt0LlSS"
      },
      "execution_count": null,
      "outputs": []
    }
  ]
}